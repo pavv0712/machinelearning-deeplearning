{
 "cells": [
  {
   "cell_type": "code",
   "execution_count": 1,
   "metadata": {},
   "outputs": [],
   "source": [
    "import numpy as np\n",
    "import pandas as pd\n",
    "import matplotlib.pyplot as plt\n",
    "%matplotlib inline"
   ]
  },
  {
   "cell_type": "code",
   "execution_count": 16,
   "metadata": {
    "scrolled": true
   },
   "outputs": [
    {
     "data": {
      "text/plain": [
       "(-2.432145002605542,\n",
       " 2.781338570935662,\n",
       " -1.7272145416901212,\n",
       " 1.7833557181725725)"
      ]
     },
     "execution_count": 16,
     "metadata": {},
     "output_type": "execute_result"
    },
    {
     "data": {
      "image/png": "[encoded data removed]",
      "text/plain": [
       "<Figure size 432x288 with 1 Axes>"
      ]
     },
     "metadata": {
      "needs_background": "light"
     },
     "output_type": "display_data"
    }
   ],
   "source": [
    "rng = np.random.RandomState(3)\n",
    "X=np.dot(rng.rand(2,2), rng.randn(2,200)).T\n",
    "plt.scatter(X[:,0],X[:,1])\n",
    "plt.axis('equal')"
   ]
  },
  {
   "cell_type": "code",
   "execution_count": 3,
   "metadata": {},
   "outputs": [
    {
     "data": {
      "text/plain": [
       "array([[ 3.91756162e-01,  3.12115087e-01],\n",
       "       [ 7.72101393e-01,  5.94713492e-01],\n",
       "       [ 7.66859231e-01,  5.61984638e-01],\n",
       "       [-4.23409194e-01, -2.38705564e-01],\n",
       "       [ 2.50803730e-01,  1.85582116e-01],\n",
       "       [-5.36993961e-01, -3.36580237e-01],\n",
       "       [-1.13951274e+00, -6.82177829e-01],\n",
       "       [ 1.84039603e+00,  1.23344395e+00],\n",
       "       [ 1.59789079e-01,  2.14774873e-02],\n",
       "       [ 2.35136590e+00,  1.51424673e+00],\n",
       "       [-2.19610228e-01, -1.63741890e-01],\n",
       "       [-4.38579333e-02,  1.14274582e-02],\n",
       "       [ 4.71079884e-01,  3.97852677e-01],\n",
       "       [-8.34856134e-01, -4.37657551e-01],\n",
       "       [ 8.19476734e-01,  4.86594588e-01],\n",
       "       [-7.77401862e-01, -4.43611811e-01],\n",
       "       [-9.89463034e-01, -5.87646875e-01],\n",
       "       [-2.30666171e-01, -1.44508010e-01],\n",
       "       [ 3.58471420e-01,  1.00434005e-01],\n",
       "       [ 1.28564311e+00,  9.02217331e-01],\n",
       "       [-6.82654108e-01, -3.83489024e-01],\n",
       "       [ 8.27189282e-01,  6.72573880e-01],\n",
       "       [-1.55707025e+00, -1.18974091e+00],\n",
       "       [-7.53657781e-02, -3.72842476e-02],\n",
       "       [-2.55285959e-02,  6.34022893e-02],\n",
       "       [-3.34769309e-01, -2.17009026e-01],\n",
       "       [ 1.18555162e+00,  7.75919410e-01],\n",
       "       [ 1.54143442e+00,  9.01632505e-01],\n",
       "       [-8.79717997e-01, -5.02194694e-01],\n",
       "       [-3.69782618e-02,  3.99870896e-02],\n",
       "       [ 1.54851287e+00,  1.20256573e+00],\n",
       "       [-1.15397614e+00, -5.74996692e-01],\n",
       "       [-2.96730784e-01, -1.15741418e-01],\n",
       "       [-8.75527511e-01, -5.22610019e-01],\n",
       "       [ 7.13620341e-01,  3.95164488e-01],\n",
       "       [-9.85645590e-01, -6.96964684e-01],\n",
       "       [-1.03452103e+00, -5.73513566e-01],\n",
       "       [ 2.09652281e+00,  1.44352456e+00],\n",
       "       [ 5.59513181e-01,  4.41522312e-01],\n",
       "       [-5.05897786e-01, -1.79432611e-01],\n",
       "       [ 4.53106352e-01,  3.90345452e-01],\n",
       "       [ 1.00836415e+00,  7.90027501e-01],\n",
       "       [-6.09844057e-02,  4.90046935e-02],\n",
       "       [ 1.48285443e+00,  1.06650581e+00],\n",
       "       [-4.80760285e-01, -1.07546305e-01],\n",
       "       [-2.95622451e-02,  7.16956714e-03],\n",
       "       [ 1.77570289e+00,  1.17309596e+00],\n",
       "       [-1.20095352e+00, -9.57069081e-01],\n",
       "       [ 2.05787827e-01,  3.05161734e-02],\n",
       "       [ 8.04774544e-01,  4.61407407e-01],\n",
       "       [ 1.73440443e-01, -3.31878704e-02],\n",
       "       [-7.26470090e-01, -4.05037909e-01],\n",
       "       [ 1.35248842e-02, -8.02550774e-02],\n",
       "       [-1.48839676e+00, -8.75634938e-01],\n",
       "       [ 1.58837688e+00,  1.20994470e+00],\n",
       "       [-6.10142918e-01, -2.36398006e-01],\n",
       "       [ 5.39114399e-01,  2.77353028e-01],\n",
       "       [ 1.66595280e+00,  1.05981438e+00],\n",
       "       [-2.76805608e-01, -1.78667400e-01],\n",
       "       [ 1.60442212e+00,  9.68508596e-01],\n",
       "       [-1.23209024e-01, -1.70750143e-02],\n",
       "       [ 1.23481401e+00,  8.74713859e-01],\n",
       "       [-9.21236602e-01, -6.80816829e-01],\n",
       "       [-4.39128149e-02,  8.15720132e-02],\n",
       "       [ 3.27790966e-01,  1.89849289e-01],\n",
       "       [ 2.48386752e-01, -2.71653553e-02],\n",
       "       [ 1.89945206e-01,  2.46088791e-01],\n",
       "       [-1.22417195e-01, -1.84011754e-01],\n",
       "       [ 1.06155816e+00,  7.82204942e-01],\n",
       "       [ 1.33805270e+00,  7.76895041e-01],\n",
       "       [ 7.58975075e-01,  4.96008740e-01],\n",
       "       [ 4.29434299e-01,  2.37814410e-01],\n",
       "       [ 9.94792864e-01,  6.49157367e-01],\n",
       "       [-1.18396038e+00, -8.80565617e-01],\n",
       "       [-7.15865285e-01, -3.67861197e-01],\n",
       "       [ 3.21630570e-01,  8.39134797e-02],\n",
       "       [-5.54796336e-01, -2.54343423e-01],\n",
       "       [ 9.80060452e-02,  4.53101135e-02],\n",
       "       [ 7.74860657e-01,  4.93602938e-01],\n",
       "       [-1.05468721e+00, -6.71637917e-01],\n",
       "       [ 1.38229192e+00,  9.81689131e-01],\n",
       "       [ 2.28323734e+00,  1.52274699e+00],\n",
       "       [-1.60772141e-01, -1.13409024e-01],\n",
       "       [-5.00073871e-01, -2.66163371e-01],\n",
       "       [-1.40234891e+00, -7.01309544e-01],\n",
       "       [ 3.59871861e-01,  3.63016889e-01],\n",
       "       [ 1.01772135e+00,  7.97041766e-01],\n",
       "       [-1.13832822e+00, -7.66185612e-01],\n",
       "       [-9.64351673e-01, -5.93481873e-01],\n",
       "       [-5.44350122e-01, -4.32821697e-01],\n",
       "       [-1.10456174e+00, -7.35624733e-01],\n",
       "       [-1.22115129e+00, -8.69238561e-01],\n",
       "       [ 6.30949712e-01,  3.82875182e-01],\n",
       "       [-1.29194215e+00, -8.40918548e-01],\n",
       "       [ 8.99178802e-01,  6.80576334e-01],\n",
       "       [ 1.83192805e+00,  1.09181015e+00],\n",
       "       [-2.47631816e-01, -2.71670191e-01],\n",
       "       [-1.44201725e+00, -9.02554937e-01],\n",
       "       [-4.77579833e-01, -3.36019882e-01],\n",
       "       [ 1.30229996e+00,  8.79352534e-01],\n",
       "       [ 7.77456623e-02, -7.51803208e-02],\n",
       "       [-9.75592552e-01, -7.19605552e-01],\n",
       "       [-3.27242949e-01, -1.79595945e-01],\n",
       "       [-1.37957267e-01, -2.17757717e-02],\n",
       "       [-1.10136669e-01, -1.48093679e-01],\n",
       "       [ 1.31922940e+00,  9.18320707e-01],\n",
       "       [-1.14289648e-01, -2.74633684e-02],\n",
       "       [ 2.16677445e-01,  1.76422364e-01],\n",
       "       [-8.35084627e-01, -5.58103706e-01],\n",
       "       [ 3.71005320e-01,  1.90511249e-01],\n",
       "       [-4.90867351e-01, -2.80666962e-01],\n",
       "       [-1.34116865e+00, -1.01922474e+00],\n",
       "       [ 6.72718692e-01,  3.94654151e-01],\n",
       "       [-1.00316359e+00, -7.75384746e-01],\n",
       "       [-4.79882052e-01, -2.57388828e-01],\n",
       "       [-3.02950379e-01, -3.61666005e-01],\n",
       "       [ 1.05665308e+00,  8.34398018e-01],\n",
       "       [ 4.65921463e-01,  2.90715760e-01],\n",
       "       [ 1.95033295e-01,  2.20856586e-01],\n",
       "       [-3.09858661e-01, -3.79152144e-02],\n",
       "       [-8.13591014e-01, -6.10913567e-01],\n",
       "       [-1.45774789e+00, -1.08210261e+00],\n",
       "       [-2.76044370e-01, -1.90885561e-01],\n",
       "       [ 7.87372589e-01,  5.38598491e-01],\n",
       "       [-2.92677466e-01, -1.42122859e-01],\n",
       "       [ 1.50008050e-01,  1.86688458e-01],\n",
       "       [ 5.70690643e-01,  4.29559568e-01],\n",
       "       [-5.21209559e-03, -2.06939965e-01],\n",
       "       [ 6.52520743e-01,  3.83990199e-01],\n",
       "       [ 1.10614436e+00,  8.53261459e-01],\n",
       "       [-9.62831411e-02, -1.28911327e-01],\n",
       "       [-1.70036526e+00, -1.17566460e+00],\n",
       "       [-4.16080987e-01, -2.51482577e-01],\n",
       "       [ 1.44237686e-01,  1.26041800e-02],\n",
       "       [ 6.96094534e-03,  6.09186014e-02],\n",
       "       [-1.55489164e+00, -9.43315847e-01],\n",
       "       [-4.35054494e-01, -2.17362972e-01],\n",
       "       [-1.52156054e+00, -1.10699773e+00],\n",
       "       [ 6.75238742e-01,  4.73466146e-01],\n",
       "       [ 1.80761586e+00,  1.17180737e+00],\n",
       "       [ 5.24703699e-01,  4.54696416e-01],\n",
       "       [-6.70106876e-01, -5.61227137e-01],\n",
       "       [ 4.60659669e-01,  2.86969964e-01],\n",
       "       [-2.19516848e+00, -1.56764317e+00],\n",
       "       [ 6.60918562e-01,  3.87810138e-01],\n",
       "       [ 2.25481544e-01,  1.10282768e-01],\n",
       "       [-1.18012723e+00, -7.59528814e-01],\n",
       "       [ 8.33738600e-01,  4.87377664e-01],\n",
       "       [-5.74735439e-01, -2.84664459e-01],\n",
       "       [ 6.98142956e-01,  4.97266405e-01],\n",
       "       [ 9.14994935e-02,  6.57437269e-02],\n",
       "       [ 4.00322332e-01,  2.43586830e-01],\n",
       "       [-1.77696593e+00, -1.20462864e+00],\n",
       "       [-8.40502026e-01, -6.02583694e-01],\n",
       "       [-4.14460331e-01, -2.84009576e-01],\n",
       "       [ 7.59403989e-01,  4.41694112e-01],\n",
       "       [-4.42848610e-01, -2.34752946e-01],\n",
       "       [ 1.10292032e+00,  7.87858246e-01],\n",
       "       [-7.60092047e-01, -5.20497430e-01],\n",
       "       [-8.84656297e-01, -5.00018596e-01],\n",
       "       [ 1.65463197e+00,  9.08796059e-01],\n",
       "       [-2.03161677e-01, -1.38973220e-01],\n",
       "       [-4.67903970e-01, -1.79319732e-01],\n",
       "       [ 3.71825953e-01,  1.18317017e-01],\n",
       "       [ 4.16136063e-01,  4.14111663e-01],\n",
       "       [-2.20426597e-02, -5.53676340e-02],\n",
       "       [ 1.26550026e+00,  8.21057551e-01],\n",
       "       [-3.78614262e-01, -2.04111745e-01],\n",
       "       [ 8.18884963e-01,  6.36562829e-01],\n",
       "       [-1.28765254e+00, -8.71363434e-01],\n",
       "       [ 2.94717290e-01,  2.26362726e-01],\n",
       "       [-1.19997623e+00, -6.92953597e-01],\n",
       "       [-5.16720116e-01, -2.41246653e-01],\n",
       "       [ 7.67137504e-01,  5.68362363e-01],\n",
       "       [-2.34396271e-01, -2.79645995e-01],\n",
       "       [-5.88229110e-01, -4.91551908e-01],\n",
       "       [ 2.45568161e-01, -6.89763600e-03],\n",
       "       [ 5.62426543e-01,  3.31851290e-01],\n",
       "       [-1.61768824e+00, -1.11253823e+00],\n",
       "       [ 7.40752520e-04,  1.36070172e-02],\n",
       "       [-2.02917701e+00, -1.24769255e+00],\n",
       "       [-1.33911704e+00, -8.63738714e-01],\n",
       "       [-8.23444167e-01, -4.85413533e-01],\n",
       "       [ 4.18561642e-01,  2.73136662e-01],\n",
       "       [-8.67707731e-02, -1.31533063e-01],\n",
       "       [-6.57092315e-01, -4.14364887e-01],\n",
       "       [-3.53777357e-01, -1.92573097e-01],\n",
       "       [-1.04497678e+00, -5.89221259e-01],\n",
       "       [-1.96574385e+00, -1.40440759e+00],\n",
       "       [-1.67884380e-01, -1.47514008e-01],\n",
       "       [ 3.05702330e-01,  1.73081780e-01],\n",
       "       [ 3.46275654e-01,  3.33082297e-01],\n",
       "       [ 2.54436204e+00,  1.62378434e+00],\n",
       "       [ 1.13056162e+00,  6.88363939e-01],\n",
       "       [ 3.55229444e-03,  1.26974066e-02],\n",
       "       [-9.73569072e-01, -6.46189235e-01],\n",
       "       [-1.14065224e-01, -4.80595910e-02],\n",
       "       [ 6.34816437e-01,  4.41846581e-01],\n",
       "       [ 8.85295434e-01,  6.40596641e-01],\n",
       "       [-3.57205542e-01, -3.09128680e-01]])"
      ]
     },
     "execution_count": 3,
     "metadata": {},
     "output_type": "execute_result"
    }
   ],
   "source": [
    "X"
   ]
  },
  {
   "cell_type": "code",
   "execution_count": 4,
   "metadata": {},
   "outputs": [
    {
     "data": {
      "text/plain": [
       "PCA(n_components=2)"
      ]
     },
     "execution_count": 4,
     "metadata": {},
     "output_type": "execute_result"
    }
   ],
   "source": [
    "from sklearn.decomposition import PCA\n",
    "mypca = PCA(n_components=2)\n",
    "mypca.fit(X)"
   ]
  },
  {
   "cell_type": "code",
   "execution_count": 5,
   "metadata": {},
   "outputs": [
    {
     "data": {
      "text/plain": [
       "array([1.25835877, 0.00506787])"
      ]
     },
     "execution_count": 5,
     "metadata": {},
     "output_type": "execute_result"
    }
   ],
   "source": [
    "mypca.explained_variance_"
   ]
  },
  {
   "cell_type": "code",
   "execution_count": 6,
   "metadata": {},
   "outputs": [
    {
     "data": {
      "text/plain": [
       "array([[ 0.83276933,  0.55362012],\n",
       "       [-0.55362012,  0.83276933]])"
      ]
     },
     "execution_count": 6,
     "metadata": {},
     "output_type": "execute_result"
    }
   ],
   "source": [
    "mypca.components_"
   ]
  },
  {
   "cell_type": "code",
   "execution_count": 7,
   "metadata": {},
   "outputs": [],
   "source": [
    "def draw_vector(v0, v1, ax=None):\n",
    "    ax=ax or plt.gca()\n",
    "    arrowprops = dict(color = 'red' , arrowstyle = 'simple', linewidth=2, shrinkA=0, shrinkB=0)\n",
    "    ax.annotate('', v1, v0, arrowprops=arrowprops)"
   ]
  },
  {
   "cell_type": "code",
   "execution_count": 14,
   "metadata": {
    "scrolled": true
   },
   "outputs": [
    {
     "data": {
      "text/plain": [
       "(-2.432145002605542,\n",
       " 2.781338570935662,\n",
       " -1.7272145416901212,\n",
       " 1.7833557181725725)"
      ]
     },
     "execution_count": 14,
     "metadata": {},
     "output_type": "execute_result"
    },
    {
     "data": {
      "image/png": "[encoded data removed]",
      "text/plain": [
       "<Figure size 432x288 with 1 Axes>"
      ]
     },
     "metadata": {
      "needs_background": "light"
     },
     "output_type": "display_data"
    }
   ],
   "source": [
    "plt.scatter(X[:,0], X[:,1], alpha=0.2)\n",
    "for length, vector in zip(mypca.explained_variance_,mypca.components_):\n",
    "    v= vector * 3 * np.sqrt(length)\n",
    "    draw_vector(mypca.mean_,mypca.mean_+ v)\n",
    "plt.axis('equal')"
   ]
  },
  {
   "cell_type": "code",
   "execution_count": 20,
   "metadata": {},
   "outputs": [],
   "source": [
    "dimpca = PCA(n_components=1)\n",
    "dimpca.fit(X)\n",
    "X_pca = dimpca.transform(X)"
   ]
  },
  {
   "cell_type": "code",
   "execution_count": 21,
   "metadata": {},
   "outputs": [
    {
     "data": {
      "text/plain": [
       "(200, 2)"
      ]
     },
     "execution_count": 21,
     "metadata": {},
     "output_type": "execute_result"
    }
   ],
   "source": [
    "X.shape"
   ]
  },
  {
   "cell_type": "code",
   "execution_count": 22,
   "metadata": {},
   "outputs": [
    {
     "data": {
      "text/plain": [
       "(200, 1)"
      ]
     },
     "execution_count": 22,
     "metadata": {},
     "output_type": "execute_result"
    }
   ],
   "source": [
    "X_pca.shape"
   ]
  },
  {
   "cell_type": "code",
   "execution_count": 24,
   "metadata": {},
   "outputs": [
    {
     "data": {
      "text/plain": [
       "(-2.4883395396532615,\n",
       " 2.7840145012712676,\n",
       " -1.729831385070677,\n",
       " 1.8383094291642441)"
      ]
     },
     "execution_count": 24,
     "metadata": {},
     "output_type": "execute_result"
    },
    {
     "data": {
      "image/png": "[encoded data removed]",
      "text/plain": [
       "<Figure size 432x288 with 1 Axes>"
      ]
     },
     "metadata": {
      "needs_background": "light"
     },
     "output_type": "display_data"
    }
   ],
   "source": [
    "X_new = dimpca.inverse_transform(X_pca)\n",
    "plt.scatter(X[:,0], X[:,1], alpha=0.2)\n",
    "plt.scatter(X_new[:,0], X_new[:,1], alpha=0.8)\n",
    "plt.axis('equal')"
   ]
  },
  {
   "cell_type": "code",
   "execution_count": null,
   "metadata": {},
   "outputs": [],
   "source": []
  }
 ],
 "metadata": {
  "kernelspec": {
   "display_name": "Python 3",
   "language": "python",
   "name": "python3"
  },
  "language_info": {
   "codemirror_mode": {
    "name": "ipython",
    "version": 3
   },
   "file_extension": ".py",
   "mimetype": "text/x-python",
   "name": "python",
   "nbconvert_exporter": "python",
   "pygments_lexer": "ipython3",
   "version": "3.7.4"
  }
 },
 "nbformat": 4,
 "nbformat_minor": 4
}
