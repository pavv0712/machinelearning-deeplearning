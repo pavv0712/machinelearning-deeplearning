{
 "cells": [
  {
   "cell_type": "code",
   "execution_count": 13,
   "metadata": {},
   "outputs": [
    {
     "name": "stdout",
     "output_type": "stream",
     "text": [
      "5\n"
     ]
    }
   ],
   "source": [
    "with open('C:/Users/ASIA_01/Downloads/침몰타이타닉1.txt', 'r') as f:\n",
    "    n, weight_limit = map(int, f.readline().split())\n",
    "    people = list(map(int, f.readline().split()))\n",
    "people.sort()\n",
    "count = 0\n",
    "while people:\n",
    "    if len(people) == 1:count +=1 ; break #혹시라도 맨 마지막 리스트 1명 남았을때 에러처리\n",
    "    if people[0] + people[-1] > weight_limit:\n",
    "        count += 1\n",
    "        people.pop() #맨 뒤사람 혼자 보내기\n",
    "    else:\n",
    "        count += 1\n",
    "        people.pop(0) #앞사람 내보내기\n",
    "        people.pop() #뒤사람 내보내기\n",
    "print(count)"
   ]
  },
  {
   "cell_type": "code",
   "execution_count": 14,
   "metadata": {},
   "outputs": [
    {
     "name": "stdout",
     "output_type": "stream",
     "text": [
      "5\n"
     ]
    }
   ],
   "source": [
    "from collections import deque\n",
    "with open('C:/Users/ASIA_01/Downloads/침몰타이타닉1.txt', 'r') as f:\n",
    "    n, weight_limit = map(int, f.readline().split())\n",
    "    people = list(map(int, f.readline().split()))\n",
    "people.sort()\n",
    "people = deque(people)\n",
    "count = 0\n",
    "while people:\n",
    "    if len(people) == 1:count +=1 ; break #혹시라도 맨 마지막 리스트 1명 남았을때 에러처리\n",
    "    if people[0] + people[-1] > weight_limit:\n",
    "        count += 1\n",
    "        people.pop() #맨 뒤사람 혼자 보내기\n",
    "    else:\n",
    "        count += 1\n",
    "        people.popleft() #앞사람 내보내기\n",
    "        people.pop() #뒤사람 내보내기\n",
    "print(count)"
   ]
  },
  {
   "cell_type": "code",
   "execution_count": 7,
   "metadata": {},
   "outputs": [
    {
     "data": {
      "text/plain": [
       "[86, 95, 107, 67, 38, 49, 116, 22, 78, 53]"
      ]
     },
     "execution_count": 7,
     "metadata": {},
     "output_type": "execute_result"
    }
   ],
   "source": [
    "people"
   ]
  },
  {
   "cell_type": "code",
   "execution_count": 8,
   "metadata": {},
   "outputs": [
    {
     "data": {
      "text/plain": [
       "10"
      ]
     },
     "execution_count": 8,
     "metadata": {},
     "output_type": "execute_result"
    }
   ],
   "source": [
    "n"
   ]
  },
  {
   "cell_type": "code",
   "execution_count": 9,
   "metadata": {},
   "outputs": [
    {
     "data": {
      "text/plain": [
       "150"
      ]
     },
     "execution_count": 9,
     "metadata": {},
     "output_type": "execute_result"
    }
   ],
   "source": [
    "weight"
   ]
  },
  {
   "cell_type": "code",
   "execution_count": 17,
   "metadata": {},
   "outputs": [
    {
     "name": "stdout",
     "output_type": "stream",
     "text": [
      "8 3\n",
      "7\n"
     ]
    }
   ],
   "source": [
    "from collections import deque\n",
    "\n",
    "n, k=map(int, input().split())\n",
    "q=list(range(1, n+1))\n",
    "dq=deque(q)\n",
    "while dq:\n",
    "    for _ in range(k-1):\n",
    "        cur=dq.popleft()\n",
    "        dq.append(cur)\n",
    "    dq.popleft()\n",
    "    if len(dq)==1:\n",
    "        print(dq[0])\n",
    "        dq.popleft()\n"
   ]
  },
  {
   "cell_type": "code",
   "execution_count": null,
   "metadata": {},
   "outputs": [],
   "source": []
  }
 ],
 "metadata": {
  "kernelspec": {
   "display_name": "Python 3",
   "language": "python",
   "name": "python3"
  },
  "language_info": {
   "codemirror_mode": {
    "name": "ipython",
    "version": 3
   },
   "file_extension": ".py",
   "mimetype": "text/x-python",
   "name": "python",
   "nbconvert_exporter": "python",
   "pygments_lexer": "ipython3",
   "version": "3.7.4"
  }
 },
 "nbformat": 4,
 "nbformat_minor": 4
}
