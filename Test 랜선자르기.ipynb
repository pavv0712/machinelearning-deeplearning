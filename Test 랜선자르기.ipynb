{
 "cells": [
  {
   "cell_type": "code",
   "execution_count": null,
   "metadata": {},
   "outputs": [],
   "source": [
    "k, n = map(int,input().split())\n",
    "a = [int(input()) for _ in range(k)]\n",
    "\n",
    "a.sort()\n",
    "\n",
    "low=1\n",
    "high=max(a)\n",
    "\n",
    "while high >=low:\n",
    "    m = (low + high) // 2\n",
    "    c=0\n",
    "    for i in a:\n",
    "        c += i//m\n",
    "    if c >= n:\n",
    "        low = m + 1\n",
    "    else:\n",
    "        high = m - 1\n",
    "print(high)"
   ]
  },
  {
   "cell_type": "code",
   "execution_count": null,
   "metadata": {},
   "outputs": [],
   "source": [
    "import sys\n",
    "input= sys.stdin.readline\n",
    "K,N = map(int,input().split())\n",
    "arr = [int(input()) for _ in range(K)]\n",
    "left, right = 1, max(arr)\n",
    "while(left<= right):\n",
    "    mid= (left+right)//2\n",
    "    sum = 0\n",
    "    for i in arr:\n",
    "        sum += i//mid\n",
    "    \n",
    "    if sum >= N:  # 정답보다 잘게 잘랐으면\n",
    "        left = mid+1 # 시작점을 방금값 + 1로\n",
    "    else : \n",
    "        right = mid-1\n",
    "\n",
    "print(right)"
   ]
  },
  {
   "cell_type": "code",
   "execution_count": null,
   "metadata": {},
   "outputs": [],
   "source": [
    "def solution(k,n, arr):\n",
    "    high = arr[0]\n",
    "    low = 0\n",
    "    result = 0\n",
    "\n",
    "    while low <= high:\n",
    "        mid = (high + low) // 2\n",
    "        cnt = 0\n",
    "        if mid == 0: return 1\n",
    "        for val in arr:\n",
    "            cnt += val//mid\n",
    "            if cnt >= n and mid > result:\n",
    "                result = mid\n",
    "                break\n",
    "\n",
    "        if cnt < n:\n",
    "            high = mid - 1\n",
    "        else:\n",
    "            low = mid + 1\n",
    "\n",
    "    return  result"
   ]
  },
  {
   "cell_type": "code",
   "execution_count": null,
   "metadata": {},
   "outputs": [],
   "source": []
  },
  {
   "cell_type": "code",
   "execution_count": null,
   "metadata": {},
   "outputs": [],
   "source": []
  },
  {
   "cell_type": "code",
   "execution_count": null,
   "metadata": {},
   "outputs": [],
   "source": []
  }
 ],
 "metadata": {
  "kernelspec": {
   "display_name": "Python 3",
   "language": "python",
   "name": "python3"
  },
  "language_info": {
   "codemirror_mode": {
    "name": "ipython",
    "version": 3
   },
   "file_extension": ".py",
   "mimetype": "text/x-python",
   "name": "python",
   "nbconvert_exporter": "python",
   "pygments_lexer": "ipython3",
   "version": "3.7.4"
  }
 },
 "nbformat": 4,
 "nbformat_minor": 4
}
