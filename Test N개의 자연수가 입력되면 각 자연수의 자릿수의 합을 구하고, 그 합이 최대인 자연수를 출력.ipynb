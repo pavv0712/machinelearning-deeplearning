{
 "cells": [
  {
   "cell_type": "code",
   "execution_count": null,
   "metadata": {},
   "outputs": [],
   "source": [
    "def sum_digit(number):\n",
    "    result = 0   \n",
    "    for i in str(number): \n",
    "        result = result + int(i) \n",
    "    return number"
   ]
  },
  {
   "cell_type": "code",
   "execution_count": null,
   "metadata": {},
   "outputs": [],
   "source": [
    "sum_digit(15232)"
   ]
  },
  {
   "cell_type": "code",
   "execution_count": 3,
   "metadata": {},
   "outputs": [
    {
     "name": "stdout",
     "output_type": "stream",
     "text": [
      "2\n",
      "923 156\n",
      "923\n"
     ]
    }
   ],
   "source": [
    "n=int(input())\n",
    "lst=list(map(int, input().split()))\n",
    "sum_list=[]\n",
    "\n",
    "def digit_sum(x):\n",
    "    sum=0\n",
    "    for i in range(len(str(x))):\n",
    "        sum+=int(str(x)[i])\n",
    "    return sum\n",
    "\n",
    "for x in lst:\n",
    "    sum_list.append(digit_sum(x))\n",
    "idx=sum_list.index(max(sum_list))\n",
    "print(lst[idx])"
   ]
  },
  {
   "cell_type": "code",
   "execution_count": null,
   "metadata": {},
   "outputs": [],
   "source": [
    "def digit_sum(x):\n",
    "    sum=0\n",
    "    while x>0:\n",
    "        sum+=x%10\n",
    "        x=x//10\n",
    "    return sum\n",
    "\n",
    "n=int(input())\n",
    "a=list(map(int, input().split()))\n",
    "res=0\n",
    "max=-2147000000\n",
    "for x in a:\n",
    "    tot=digit_sum(x)\n",
    "    if tot>max:\n",
    "        max=tot\n",
    "        res=x\n",
    "print(res)"
   ]
  },
  {
   "cell_type": "code",
   "execution_count": null,
   "metadata": {},
   "outputs": [],
   "source": []
  }
 ],
 "metadata": {
  "kernelspec": {
   "display_name": "Python 3",
   "language": "python",
   "name": "python3"
  },
  "language_info": {
   "codemirror_mode": {
    "name": "ipython",
    "version": 3
   },
   "file_extension": ".py",
   "mimetype": "text/x-python",
   "name": "python",
   "nbconvert_exporter": "python",
   "pygments_lexer": "ipython3",
   "version": "3.7.4"
  }
 },
 "nbformat": 4,
 "nbformat_minor": 4
}
