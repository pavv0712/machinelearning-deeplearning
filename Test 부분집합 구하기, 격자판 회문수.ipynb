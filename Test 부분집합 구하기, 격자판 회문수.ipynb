{
 "cells": [
  {
   "cell_type": "code",
   "execution_count": null,
   "metadata": {},
   "outputs": [],
   "source": [
    "def MarkBit(x,c):\n",
    "    a=[0]*c\n",
    "    for i in range(c):\n",
    "        a[c-i-1]=x%2\n",
    "        x=x//2\n",
    "    return a"
   ]
  },
  {
   "cell_type": "code",
   "execution_count": null,
   "metadata": {},
   "outputs": [],
   "source": [
    "n=int(input('n='))\n",
    "tt = [ i for i in range(1,n+1)]\n",
    "\n",
    "for i in range(2**n):\n",
    "    idx = MarkBit(i,n)\n",
    "    for j in range(n):\n",
    "        if idx[j] == 1:\n",
    "            print(tt[j], end=' ')\n",
    "    print()"
   ]
  },
  {
   "cell_type": "code",
   "execution_count": 11,
   "metadata": {},
   "outputs": [],
   "source": [
    "with open('C:/Users/ASIA_01/Downloads/격자판회문수1.txt', 'r') as f:   \n",
    "    board = [list(map(int,f.readline().split())) for _ in range(7)]\n",
    "cnt = 0\n",
    "for i in range(3):\n",
    "    for j in range(7):\n",
    "        temp=board[j][i+i+5]\n",
    "        if temp == temp[::-1]: #행의 회문수 찾기\n",
    "            cnt+=1\n",
    "        for k in range(2): # 열의 회문수 찾기\n",
    "            if board[i+k][j] != board[i+5-k-1[j]]:\n",
    "                break\n",
    "        else:\n",
    "            cnt += 1\n",
    "print(cnt)"
   ]
  },
  {
   "cell_type": "code",
   "execution_count": null,
   "metadata": {},
   "outputs": [],
   "source": []
  },
  {
   "cell_type": "code",
   "execution_count": null,
   "metadata": {},
   "outputs": [],
   "source": []
  }
 ],
 "metadata": {
  "kernelspec": {
   "display_name": "Python 3",
   "language": "python",
   "name": "python3"
  },
  "language_info": {
   "codemirror_mode": {
    "name": "ipython",
    "version": 3
   },
   "file_extension": ".py",
   "mimetype": "text/x-python",
   "name": "python",
   "nbconvert_exporter": "python",
   "pygments_lexer": "ipython3",
   "version": "3.7.4"
  }
 },
 "nbformat": 4,
 "nbformat_minor": 4
}
