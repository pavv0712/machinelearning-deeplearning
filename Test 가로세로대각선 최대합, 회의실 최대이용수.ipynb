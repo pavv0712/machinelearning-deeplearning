{
 "cells": [
  {
   "cell_type": "code",
   "execution_count": 1,
   "metadata": {},
   "outputs": [],
   "source": [
    "f = open('C:/Users/ASIA_01/Downloads/격자판최대합1.txt')\n",
    "n = int(f.readline())\n",
    "a = [list(map(int,f.readline().split())) for _ in range(n)]"
   ]
  },
  {
   "cell_type": "code",
   "execution_count": 27,
   "metadata": {},
   "outputs": [
    {
     "name": "stdout",
     "output_type": "stream",
     "text": [
      "75\n",
      "71\n",
      "58\n",
      "8\n",
      "93\n",
      "62\n",
      "49\n",
      "27\n",
      "52\n",
      "34\n"
     ]
    }
   ],
   "source": [
    "for i in range(n):\n",
    "    print(a[i][i])"
   ]
  },
  {
   "cell_type": "code",
   "execution_count": 25,
   "metadata": {
    "scrolled": true
   },
   "outputs": [
    {
     "data": {
      "text/plain": [
       "(75, 71)"
      ]
     },
     "execution_count": 25,
     "metadata": {},
     "output_type": "execute_result"
    }
   ],
   "source": [
    "a[0][0], a[1][1]"
   ]
  },
  {
   "cell_type": "code",
   "execution_count": 26,
   "metadata": {
    "scrolled": true
   },
   "outputs": [
    {
     "data": {
      "text/plain": [
       "10"
      ]
     },
     "execution_count": 26,
     "metadata": {},
     "output_type": "execute_result"
    }
   ],
   "source": [
    "n"
   ]
  },
  {
   "cell_type": "code",
   "execution_count": 12,
   "metadata": {
    "scrolled": true
   },
   "outputs": [
    {
     "data": {
      "text/plain": [
       "[[75, 79, 6, 72, 40, 72, 28, 43, 64, 19],\n",
       " [97, 71, 12, 48, 64, 95, 64, 40, 38, 24],\n",
       " [52, 17, 58, 64, 13, 37, 38, 5, 30, 36],\n",
       " [43, 30, 15, 8, 13, 21, 81, 29, 79, 33],\n",
       " [20, 4, 31, 24, 93, 60, 61, 19, 9, 88],\n",
       " [12, 33, 30, 4, 38, 62, 98, 34, 65, 33],\n",
       " [37, 26, 6, 60, 82, 57, 49, 85, 66, 67],\n",
       " [93, 4, 29, 67, 65, 96, 5, 27, 39, 87],\n",
       " [16, 52, 8, 7, 56, 19, 8, 53, 52, 93],\n",
       " [87, 55, 58, 84, 61, 92, 3, 74, 66, 34]]"
      ]
     },
     "execution_count": 12,
     "metadata": {},
     "output_type": "execute_result"
    }
   ],
   "source": [
    "a"
   ]
  },
  {
   "cell_type": "code",
   "execution_count": 55,
   "metadata": {},
   "outputs": [
    {
     "name": "stdout",
     "output_type": "stream",
     "text": [
      "614\n"
     ]
    }
   ],
   "source": [
    "f = open('C:/Users/ASIA_01/Downloads/격자판최대합1.txt')\n",
    "n = int(f.readline())\n",
    "a = [list(map(int,f.readline().split())) for _ in range(n)]\n",
    "max_ = 0\n",
    "for i in range(n):\n",
    "    garosum = serosum = 0\n",
    "    for j in range(n):\n",
    "        garosum += a[i][j]\n",
    "        serosum += a[j][i]\n",
    "    if garosum > max_:\n",
    "        max_ = garosum\n",
    "    if serosum > max_:\n",
    "        max_ = serosum\n",
    "        \n",
    "daesum1 = daesum2 = 0\n",
    "for i in range(n):\n",
    "    daesum1 += a[i][i]\n",
    "    daesum2 += a[i][n-i-1]\n",
    "    if daesum1 > max_:\n",
    "        max_ = daesum1\n",
    "    if daesum2 > max_:\n",
    "        max_ = daesum2\n",
    "        \n",
    "print(max_)"
   ]
  },
  {
   "cell_type": "code",
   "execution_count": 54,
   "metadata": {},
   "outputs": [
    {
     "name": "stdout",
     "output_type": "stream",
     "text": [
      "529\n"
     ]
    }
   ],
   "source": [
    "result = 0\n",
    "daesum1 = daesum2 = 0\n",
    "for i in range(n):   \n",
    "    daesum1 += a[i][i]\n",
    "    daesum2 += a[i][n-i-1]\n",
    "    if daesum1 > result:\n",
    "        result = daesum1\n",
    "    if daesum2 > result:\n",
    "        result = daesum2\n",
    "        \n",
    "print(result)"
   ]
  },
  {
   "cell_type": "code",
   "execution_count": 57,
   "metadata": {},
   "outputs": [
    {
     "data": {
      "text/plain": [
       "19"
      ]
     },
     "execution_count": 57,
     "metadata": {},
     "output_type": "execute_result"
    }
   ],
   "source": [
    "a[0][9]"
   ]
  },
  {
   "cell_type": "code",
   "execution_count": 1,
   "metadata": {},
   "outputs": [],
   "source": [
    "f = open('C:/Users/ASIA_01/Downloads/회의실in1.txt', 'r')\n",
    "n = int(f.readline())\n",
    "a = [list(map(int,f.readline().split())) for _ in range(n)]"
   ]
  },
  {
   "cell_type": "code",
   "execution_count": 87,
   "metadata": {},
   "outputs": [],
   "source": [
    "a = sorted(a, key = lambda a:a[0])\n",
    "a = sorted(a, key = lambda a:a[1])"
   ]
  },
  {
   "cell_type": "code",
   "execution_count": 89,
   "metadata": {},
   "outputs": [
    {
     "data": {
      "text/plain": [
       "[[1, 5],\n",
       " [2, 8],\n",
       " [5, 9],\n",
       " [11, 12],\n",
       " [11, 13],\n",
       " [12, 15],\n",
       " [4, 16],\n",
       " [9, 19],\n",
       " [18, 19],\n",
       " [2, 20],\n",
       " [5, 20],\n",
       " [14, 20],\n",
       " [16, 20],\n",
       " [4, 21],\n",
       " [13, 21],\n",
       " [2, 22],\n",
       " [16, 22],\n",
       " [12, 23],\n",
       " [21, 23],\n",
       " [22, 23]]"
      ]
     },
     "execution_count": 89,
     "metadata": {},
     "output_type": "execute_result"
    }
   ],
   "source": [
    "a"
   ]
  },
  {
   "cell_type": "code",
   "execution_count": 83,
   "metadata": {},
   "outputs": [
    {
     "name": "stdout",
     "output_type": "stream",
     "text": [
      "6\n"
     ]
    }
   ],
   "source": [
    "end = answer = 0\n",
    "for i in a:\n",
    "    if end <= i[0]:\n",
    "        end = i[1]\n",
    "        answer += 1\n",
    "print(answer)"
   ]
  },
  {
   "cell_type": "code",
   "execution_count": null,
   "metadata": {},
   "outputs": [],
   "source": []
  }
 ],
 "metadata": {
  "kernelspec": {
   "display_name": "Python 3",
   "language": "python",
   "name": "python3"
  },
  "language_info": {
   "codemirror_mode": {
    "name": "ipython",
    "version": 3
   },
   "file_extension": ".py",
   "mimetype": "text/x-python",
   "name": "python",
   "nbconvert_exporter": "python",
   "pygments_lexer": "ipython3",
   "version": "3.7.4"
  }
 },
 "nbformat": 4,
 "nbformat_minor": 4
}
