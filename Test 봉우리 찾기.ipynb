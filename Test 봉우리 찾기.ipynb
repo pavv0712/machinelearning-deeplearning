{
 "cells": [
  {
   "cell_type": "code",
   "execution_count": 1,
   "metadata": {},
   "outputs": [],
   "source": [
    "f = open('C:/Users/ASIA_01/Downloads/봉우리in1.txt','r')\n",
    "n = int(f.readline())\n",
    "a = [list(map(int,f.readline().split())) for _ in range(n)]"
   ]
  },
  {
   "cell_type": "code",
   "execution_count": 2,
   "metadata": {},
   "outputs": [
    {
     "data": {
      "text/plain": [
       "[[27, 33, 80, 73, 19, 23, 15],\n",
       " [48, 84, 61, 3, 36, 9, 62],\n",
       " [87, 57, 3, 14, 69, 17, 22],\n",
       " [17, 57, 86, 21, 85, 51, 82],\n",
       " [7, 94, 66, 21, 19, 41, 82],\n",
       " [27, 5, 59, 28, 26, 77, 64],\n",
       " [5, 46, 4, 63, 76, 99, 8]]"
      ]
     },
     "execution_count": 2,
     "metadata": {},
     "output_type": "execute_result"
    }
   ],
   "source": [
    "a"
   ]
  },
  {
   "cell_type": "code",
   "execution_count": null,
   "metadata": {},
   "outputs": [],
   "source": [
    "dx=[-1, 0, 1, 0]\n",
    "dy=[0, 1, 0, -1]\n",
    "f = open('C:/Users/ASIA_01/Downloads/봉우리in1.txt','r')\n",
    "n = int(f.readline())\n",
    "a = [list(map(int,f.readline().split())) for _ in range(n)]\n",
    "a.insert(0, [0]*n) #윗칸에 0 삽입\n",
    "a.append([0]*n) #아래칸에 0 삽인\n",
    "for x in a:\n",
    "    x.insert(0, 0) #맨왼쪽에 0 삽입\n",
    "    x.append(0) #맨오른쪽 0 추가\n",
    "\n",
    "cnt=0\n",
    "for i in range(1, n+1):\n",
    "    for j in range(1, n+1):\n",
    "        if all(a[i][j]>a[i+dx[k]][j+dy[k]] for k in range(4)):\n",
    "            cnt+=1"
   ]
  },
  {
   "cell_type": "code",
   "execution_count": null,
   "metadata": {},
   "outputs": [],
   "source": [
    "print(cnt)"
   ]
  },
  {
   "cell_type": "code",
   "execution_count": null,
   "metadata": {},
   "outputs": [],
   "source": []
  }
 ],
 "metadata": {
  "kernelspec": {
   "display_name": "Python 3",
   "language": "python",
   "name": "python3"
  },
  "language_info": {
   "codemirror_mode": {
    "name": "ipython",
    "version": 3
   },
   "file_extension": ".py",
   "mimetype": "text/x-python",
   "name": "python",
   "nbconvert_exporter": "python",
   "pygments_lexer": "ipython3",
   "version": "3.7.4"
  }
 },
 "nbformat": 4,
 "nbformat_minor": 4
}
