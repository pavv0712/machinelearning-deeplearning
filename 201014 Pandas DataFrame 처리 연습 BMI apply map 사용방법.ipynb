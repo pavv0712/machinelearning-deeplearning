{
 "cells": [
  {
   "cell_type": "code",
   "execution_count": 2,
   "metadata": {},
   "outputs": [],
   "source": [
    "import numpy as np\n",
    "import pandas as pd\n",
    "import matplotlib.pyplot as plt\n",
    "import random"
   ]
  },
  {
   "cell_type": "code",
   "execution_count": 3,
   "metadata": {},
   "outputs": [],
   "source": [
    "def name_gen():\n",
    "    name_xx=''\n",
    "    for i in range(5):\n",
    "        letter = chr(random.randint(97,122))\n",
    "        name_xx = name_xx + letter\n",
    "    return name_xx"
   ]
  },
  {
   "cell_type": "code",
   "execution_count": 4,
   "metadata": {},
   "outputs": [
    {
     "data": {
      "text/plain": [
       "'echii'"
      ]
     },
     "execution_count": 4,
     "metadata": {},
     "output_type": "execute_result"
    }
   ],
   "source": [
    "name_gen()"
   ]
  },
  {
   "cell_type": "code",
   "execution_count": 5,
   "metadata": {},
   "outputs": [],
   "source": [
    "names = [ name_gen() for i in range(10)]\n",
    "weights = [ random.randint(45,101) for xx in names]\n",
    "height = [ random.randint(150,221) for xx in names]"
   ]
  },
  {
   "cell_type": "code",
   "execution_count": 7,
   "metadata": {},
   "outputs": [],
   "source": [
    "BMI_table = pd.DataFrame({\n",
    "    '이름':names,\n",
    "    '몸무게':weights,\n",
    "    '키':height\n",
    "})"
   ]
  },
  {
   "cell_type": "code",
   "execution_count": 8,
   "metadata": {},
   "outputs": [
    {
     "data": {
      "text/html": [
       "<div>\n",
       "<style scoped>\n",
       "    .dataframe tbody tr th:only-of-type {\n",
       "        vertical-align: middle;\n",
       "    }\n",
       "\n",
       "    .dataframe tbody tr th {\n",
       "        vertical-align: top;\n",
       "    }\n",
       "\n",
       "    .dataframe thead th {\n",
       "        text-align: right;\n",
       "    }\n",
       "</style>\n",
       "<table border=\"1\" class=\"dataframe\">\n",
       "  <thead>\n",
       "    <tr style=\"text-align: right;\">\n",
       "      <th></th>\n",
       "      <th>이름</th>\n",
       "      <th>몸무게</th>\n",
       "      <th>키</th>\n",
       "    </tr>\n",
       "  </thead>\n",
       "  <tbody>\n",
       "    <tr>\n",
       "      <th>0</th>\n",
       "      <td>xnjmq</td>\n",
       "      <td>58</td>\n",
       "      <td>189</td>\n",
       "    </tr>\n",
       "    <tr>\n",
       "      <th>1</th>\n",
       "      <td>udapt</td>\n",
       "      <td>100</td>\n",
       "      <td>196</td>\n",
       "    </tr>\n",
       "    <tr>\n",
       "      <th>2</th>\n",
       "      <td>bxdqb</td>\n",
       "      <td>49</td>\n",
       "      <td>175</td>\n",
       "    </tr>\n",
       "    <tr>\n",
       "      <th>3</th>\n",
       "      <td>pkpbx</td>\n",
       "      <td>77</td>\n",
       "      <td>156</td>\n",
       "    </tr>\n",
       "    <tr>\n",
       "      <th>4</th>\n",
       "      <td>uwjjz</td>\n",
       "      <td>50</td>\n",
       "      <td>208</td>\n",
       "    </tr>\n",
       "    <tr>\n",
       "      <th>5</th>\n",
       "      <td>mvokl</td>\n",
       "      <td>48</td>\n",
       "      <td>159</td>\n",
       "    </tr>\n",
       "    <tr>\n",
       "      <th>6</th>\n",
       "      <td>piovf</td>\n",
       "      <td>86</td>\n",
       "      <td>171</td>\n",
       "    </tr>\n",
       "    <tr>\n",
       "      <th>7</th>\n",
       "      <td>ixmnr</td>\n",
       "      <td>50</td>\n",
       "      <td>192</td>\n",
       "    </tr>\n",
       "    <tr>\n",
       "      <th>8</th>\n",
       "      <td>kcmoo</td>\n",
       "      <td>60</td>\n",
       "      <td>162</td>\n",
       "    </tr>\n",
       "    <tr>\n",
       "      <th>9</th>\n",
       "      <td>wgnie</td>\n",
       "      <td>45</td>\n",
       "      <td>216</td>\n",
       "    </tr>\n",
       "  </tbody>\n",
       "</table>\n",
       "</div>"
      ],
      "text/plain": [
       "      이름  몸무게    키\n",
       "0  xnjmq   58  189\n",
       "1  udapt  100  196\n",
       "2  bxdqb   49  175\n",
       "3  pkpbx   77  156\n",
       "4  uwjjz   50  208\n",
       "5  mvokl   48  159\n",
       "6  piovf   86  171\n",
       "7  ixmnr   50  192\n",
       "8  kcmoo   60  162\n",
       "9  wgnie   45  216"
      ]
     },
     "execution_count": 8,
     "metadata": {},
     "output_type": "execute_result"
    }
   ],
   "source": [
    "BMI_table"
   ]
  },
  {
   "cell_type": "code",
   "execution_count": 20,
   "metadata": {},
   "outputs": [],
   "source": [
    "BMI_table['BMI_index'] = BMI_table.몸무게/(BMI_table.키/100)**2"
   ]
  },
  {
   "cell_type": "code",
   "execution_count": 21,
   "metadata": {},
   "outputs": [
    {
     "data": {
      "text/plain": [
       "0    16.236947\n",
       "1    26.030820\n",
       "2    16.000000\n",
       "3    31.640368\n",
       "4    11.556953\n",
       "5    18.986591\n",
       "6    29.410759\n",
       "7    13.563368\n",
       "8    22.862369\n",
       "9     9.645062\n",
       "Name: BMI, dtype: float64"
      ]
     },
     "execution_count": 21,
     "metadata": {},
     "output_type": "execute_result"
    }
   ],
   "source": [
    "BMI_table.BMI"
   ]
  },
  {
   "cell_type": "code",
   "execution_count": 22,
   "metadata": {},
   "outputs": [],
   "source": [
    "def health_info(BMI):\n",
    "    if BMI < 20 :\n",
    "        return '저'\n",
    "    elif BMI >= 20 and BMI <= 24 :\n",
    "        return '정상' \n",
    "    elif BMI > 24 :\n",
    "        return '과체중'\n",
    "    "
   ]
  },
  {
   "cell_type": "code",
   "execution_count": 24,
   "metadata": {},
   "outputs": [],
   "source": [
    "BMI_table['health']=BMI_table.apply(lambda x : health_info(x['BMI_index']), axis=1)"
   ]
  },
  {
   "cell_type": "code",
   "execution_count": 25,
   "metadata": {},
   "outputs": [
    {
     "data": {
      "text/html": [
       "<div>\n",
       "<style scoped>\n",
       "    .dataframe tbody tr th:only-of-type {\n",
       "        vertical-align: middle;\n",
       "    }\n",
       "\n",
       "    .dataframe tbody tr th {\n",
       "        vertical-align: top;\n",
       "    }\n",
       "\n",
       "    .dataframe thead th {\n",
       "        text-align: right;\n",
       "    }\n",
       "</style>\n",
       "<table border=\"1\" class=\"dataframe\">\n",
       "  <thead>\n",
       "    <tr style=\"text-align: right;\">\n",
       "      <th></th>\n",
       "      <th>이름</th>\n",
       "      <th>몸무게</th>\n",
       "      <th>키</th>\n",
       "      <th>BMI</th>\n",
       "      <th>BMI_index</th>\n",
       "      <th>health</th>\n",
       "    </tr>\n",
       "  </thead>\n",
       "  <tbody>\n",
       "    <tr>\n",
       "      <th>0</th>\n",
       "      <td>xnjmq</td>\n",
       "      <td>58</td>\n",
       "      <td>189</td>\n",
       "      <td>16.236947</td>\n",
       "      <td>16.236947</td>\n",
       "      <td>저</td>\n",
       "    </tr>\n",
       "    <tr>\n",
       "      <th>1</th>\n",
       "      <td>udapt</td>\n",
       "      <td>100</td>\n",
       "      <td>196</td>\n",
       "      <td>26.030820</td>\n",
       "      <td>26.030820</td>\n",
       "      <td>과체중</td>\n",
       "    </tr>\n",
       "    <tr>\n",
       "      <th>2</th>\n",
       "      <td>bxdqb</td>\n",
       "      <td>49</td>\n",
       "      <td>175</td>\n",
       "      <td>16.000000</td>\n",
       "      <td>16.000000</td>\n",
       "      <td>저</td>\n",
       "    </tr>\n",
       "    <tr>\n",
       "      <th>3</th>\n",
       "      <td>pkpbx</td>\n",
       "      <td>77</td>\n",
       "      <td>156</td>\n",
       "      <td>31.640368</td>\n",
       "      <td>31.640368</td>\n",
       "      <td>과체중</td>\n",
       "    </tr>\n",
       "    <tr>\n",
       "      <th>4</th>\n",
       "      <td>uwjjz</td>\n",
       "      <td>50</td>\n",
       "      <td>208</td>\n",
       "      <td>11.556953</td>\n",
       "      <td>11.556953</td>\n",
       "      <td>저</td>\n",
       "    </tr>\n",
       "    <tr>\n",
       "      <th>5</th>\n",
       "      <td>mvokl</td>\n",
       "      <td>48</td>\n",
       "      <td>159</td>\n",
       "      <td>18.986591</td>\n",
       "      <td>18.986591</td>\n",
       "      <td>저</td>\n",
       "    </tr>\n",
       "    <tr>\n",
       "      <th>6</th>\n",
       "      <td>piovf</td>\n",
       "      <td>86</td>\n",
       "      <td>171</td>\n",
       "      <td>29.410759</td>\n",
       "      <td>29.410759</td>\n",
       "      <td>과체중</td>\n",
       "    </tr>\n",
       "    <tr>\n",
       "      <th>7</th>\n",
       "      <td>ixmnr</td>\n",
       "      <td>50</td>\n",
       "      <td>192</td>\n",
       "      <td>13.563368</td>\n",
       "      <td>13.563368</td>\n",
       "      <td>저</td>\n",
       "    </tr>\n",
       "    <tr>\n",
       "      <th>8</th>\n",
       "      <td>kcmoo</td>\n",
       "      <td>60</td>\n",
       "      <td>162</td>\n",
       "      <td>22.862369</td>\n",
       "      <td>22.862369</td>\n",
       "      <td>정상</td>\n",
       "    </tr>\n",
       "    <tr>\n",
       "      <th>9</th>\n",
       "      <td>wgnie</td>\n",
       "      <td>45</td>\n",
       "      <td>216</td>\n",
       "      <td>9.645062</td>\n",
       "      <td>9.645062</td>\n",
       "      <td>저</td>\n",
       "    </tr>\n",
       "  </tbody>\n",
       "</table>\n",
       "</div>"
      ],
      "text/plain": [
       "      이름  몸무게    키        BMI  BMI_index health\n",
       "0  xnjmq   58  189  16.236947  16.236947      저\n",
       "1  udapt  100  196  26.030820  26.030820    과체중\n",
       "2  bxdqb   49  175  16.000000  16.000000      저\n",
       "3  pkpbx   77  156  31.640368  31.640368    과체중\n",
       "4  uwjjz   50  208  11.556953  11.556953      저\n",
       "5  mvokl   48  159  18.986591  18.986591      저\n",
       "6  piovf   86  171  29.410759  29.410759    과체중\n",
       "7  ixmnr   50  192  13.563368  13.563368      저\n",
       "8  kcmoo   60  162  22.862369  22.862369     정상\n",
       "9  wgnie   45  216   9.645062   9.645062      저"
      ]
     },
     "execution_count": 25,
     "metadata": {},
     "output_type": "execute_result"
    }
   ],
   "source": [
    "BMI_table"
   ]
  },
  {
   "cell_type": "code",
   "execution_count": 27,
   "metadata": {},
   "outputs": [],
   "source": [
    "BMI_table = BMI_table[['이름','키','몸무게','BMI_index','health']]"
   ]
  },
  {
   "cell_type": "code",
   "execution_count": 28,
   "metadata": {},
   "outputs": [
    {
     "data": {
      "text/html": [
       "<div>\n",
       "<style scoped>\n",
       "    .dataframe tbody tr th:only-of-type {\n",
       "        vertical-align: middle;\n",
       "    }\n",
       "\n",
       "    .dataframe tbody tr th {\n",
       "        vertical-align: top;\n",
       "    }\n",
       "\n",
       "    .dataframe thead th {\n",
       "        text-align: right;\n",
       "    }\n",
       "</style>\n",
       "<table border=\"1\" class=\"dataframe\">\n",
       "  <thead>\n",
       "    <tr style=\"text-align: right;\">\n",
       "      <th></th>\n",
       "      <th>이름</th>\n",
       "      <th>키</th>\n",
       "      <th>몸무게</th>\n",
       "      <th>BMI_index</th>\n",
       "      <th>health</th>\n",
       "    </tr>\n",
       "  </thead>\n",
       "  <tbody>\n",
       "    <tr>\n",
       "      <th>0</th>\n",
       "      <td>xnjmq</td>\n",
       "      <td>189</td>\n",
       "      <td>58</td>\n",
       "      <td>16.236947</td>\n",
       "      <td>저</td>\n",
       "    </tr>\n",
       "    <tr>\n",
       "      <th>1</th>\n",
       "      <td>udapt</td>\n",
       "      <td>196</td>\n",
       "      <td>100</td>\n",
       "      <td>26.030820</td>\n",
       "      <td>과체중</td>\n",
       "    </tr>\n",
       "    <tr>\n",
       "      <th>2</th>\n",
       "      <td>bxdqb</td>\n",
       "      <td>175</td>\n",
       "      <td>49</td>\n",
       "      <td>16.000000</td>\n",
       "      <td>저</td>\n",
       "    </tr>\n",
       "    <tr>\n",
       "      <th>3</th>\n",
       "      <td>pkpbx</td>\n",
       "      <td>156</td>\n",
       "      <td>77</td>\n",
       "      <td>31.640368</td>\n",
       "      <td>과체중</td>\n",
       "    </tr>\n",
       "    <tr>\n",
       "      <th>4</th>\n",
       "      <td>uwjjz</td>\n",
       "      <td>208</td>\n",
       "      <td>50</td>\n",
       "      <td>11.556953</td>\n",
       "      <td>저</td>\n",
       "    </tr>\n",
       "    <tr>\n",
       "      <th>5</th>\n",
       "      <td>mvokl</td>\n",
       "      <td>159</td>\n",
       "      <td>48</td>\n",
       "      <td>18.986591</td>\n",
       "      <td>저</td>\n",
       "    </tr>\n",
       "    <tr>\n",
       "      <th>6</th>\n",
       "      <td>piovf</td>\n",
       "      <td>171</td>\n",
       "      <td>86</td>\n",
       "      <td>29.410759</td>\n",
       "      <td>과체중</td>\n",
       "    </tr>\n",
       "    <tr>\n",
       "      <th>7</th>\n",
       "      <td>ixmnr</td>\n",
       "      <td>192</td>\n",
       "      <td>50</td>\n",
       "      <td>13.563368</td>\n",
       "      <td>저</td>\n",
       "    </tr>\n",
       "    <tr>\n",
       "      <th>8</th>\n",
       "      <td>kcmoo</td>\n",
       "      <td>162</td>\n",
       "      <td>60</td>\n",
       "      <td>22.862369</td>\n",
       "      <td>정상</td>\n",
       "    </tr>\n",
       "    <tr>\n",
       "      <th>9</th>\n",
       "      <td>wgnie</td>\n",
       "      <td>216</td>\n",
       "      <td>45</td>\n",
       "      <td>9.645062</td>\n",
       "      <td>저</td>\n",
       "    </tr>\n",
       "  </tbody>\n",
       "</table>\n",
       "</div>"
      ],
      "text/plain": [
       "      이름    키  몸무게  BMI_index health\n",
       "0  xnjmq  189   58  16.236947      저\n",
       "1  udapt  196  100  26.030820    과체중\n",
       "2  bxdqb  175   49  16.000000      저\n",
       "3  pkpbx  156   77  31.640368    과체중\n",
       "4  uwjjz  208   50  11.556953      저\n",
       "5  mvokl  159   48  18.986591      저\n",
       "6  piovf  171   86  29.410759    과체중\n",
       "7  ixmnr  192   50  13.563368      저\n",
       "8  kcmoo  162   60  22.862369     정상\n",
       "9  wgnie  216   45   9.645062      저"
      ]
     },
     "execution_count": 28,
     "metadata": {},
     "output_type": "execute_result"
    }
   ],
   "source": [
    "BMI_table"
   ]
  },
  {
   "cell_type": "code",
   "execution_count": 30,
   "metadata": {},
   "outputs": [],
   "source": [
    "BMI_table['health2'] = '개똥이'\n",
    "index=0\n",
    "for xx in BMI_table['BMI_index']:\n",
    "    BMI_table.iloc[index,-1]=health_info(xx)\n",
    "    index += 1"
   ]
  },
  {
   "cell_type": "code",
   "execution_count": 32,
   "metadata": {},
   "outputs": [
    {
     "data": {
      "text/plain": [
       "16.0"
      ]
     },
     "execution_count": 32,
     "metadata": {},
     "output_type": "execute_result"
    }
   ],
   "source": [
    "BMI_table.iloc[2,3]"
   ]
  },
  {
   "cell_type": "code",
   "execution_count": null,
   "metadata": {},
   "outputs": [],
   "source": []
  }
 ],
 "metadata": {
  "kernelspec": {
   "display_name": "Python 3",
   "language": "python",
   "name": "python3"
  },
  "language_info": {
   "codemirror_mode": {
    "name": "ipython",
    "version": 3
   },
   "file_extension": ".py",
   "mimetype": "text/x-python",
   "name": "python",
   "nbconvert_exporter": "python",
   "pygments_lexer": "ipython3",
   "version": "3.7.4"
  }
 },
 "nbformat": 4,
 "nbformat_minor": 4
}
