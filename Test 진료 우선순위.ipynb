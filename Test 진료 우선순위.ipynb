{
 "cells": [
  {
   "cell_type": "code",
   "execution_count": 2,
   "metadata": {},
   "outputs": [
    {
     "name": "stdout",
     "output_type": "stream",
     "text": [
      "5 2\n",
      "60 50 70 80 90\n",
      "3\n"
     ]
    }
   ],
   "source": [
    "from collections import deque\n",
    "\n",
    "x, y=map(int, input().split())\n",
    "de=[(p, v) for p, v in enumerate(list(map(int, input().split())))]\n",
    "de=deque(de)\n",
    "cnt=0\n",
    "while True:\n",
    "    first=de.popleft()\n",
    "    if any(first[1]<i[1] for i in de):\n",
    "        de.append(first)\n",
    "    else:\n",
    "        cnt+=1\n",
    "        if first[0]==y:\n",
    "            print(cnt)\n",
    "            break"
   ]
  },
  {
   "cell_type": "code",
   "execution_count": 3,
   "metadata": {},
   "outputs": [
    {
     "data": {
      "text/plain": [
       "(2, 70)"
      ]
     },
     "execution_count": 3,
     "metadata": {},
     "output_type": "execute_result"
    }
   ],
   "source": [
    "first"
   ]
  },
  {
   "cell_type": "code",
   "execution_count": null,
   "metadata": {},
   "outputs": [],
   "source": []
  }
 ],
 "metadata": {
  "kernelspec": {
   "display_name": "Python 3",
   "language": "python",
   "name": "python3"
  }
 },
 "nbformat": 4,
 "nbformat_minor": 4
}
